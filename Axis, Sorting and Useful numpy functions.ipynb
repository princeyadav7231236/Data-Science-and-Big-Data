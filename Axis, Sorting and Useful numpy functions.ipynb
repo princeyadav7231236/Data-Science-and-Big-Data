{
 "cells": [
  {
   "cell_type": "code",
   "execution_count": 1,
   "id": "160710a0",
   "metadata": {},
   "outputs": [],
   "source": [
    "import numpy as np"
   ]
  },
  {
   "cell_type": "code",
   "execution_count": 2,
   "id": "0f1e4546",
   "metadata": {},
   "outputs": [],
   "source": [
    "arr1 = np.array([[1, 2, 3],\n",
    "                 [4, 5, 6]])"
   ]
  },
  {
   "cell_type": "code",
   "execution_count": 3,
   "id": "1e43fc9f",
   "metadata": {},
   "outputs": [],
   "source": [
    "arr2 = np.array([[7, 8, 9], \n",
    "                 [10, 11, 12]])"
   ]
  },
  {
   "cell_type": "markdown",
   "id": "ec972f72",
   "metadata": {},
   "source": [
    "# Dot Product"
   ]
  },
  {
   "cell_type": "code",
   "execution_count": 4,
   "id": "c99b38dd",
   "metadata": {},
   "outputs": [
    {
     "data": {
      "text/plain": [
       "array([[ 50,  68],\n",
       "       [122, 167]])"
      ]
     },
     "execution_count": 4,
     "metadata": {},
     "output_type": "execute_result"
    }
   ],
   "source": [
    "np.dot(arr1, arr2.transpose())"
   ]
  },
  {
   "cell_type": "markdown",
   "id": "9640b410",
   "metadata": {},
   "source": [
    "# Cross Product"
   ]
  },
  {
   "cell_type": "code",
   "execution_count": 5,
   "id": "09c4bac8",
   "metadata": {},
   "outputs": [
    {
     "data": {
      "text/plain": [
       "array([[-6, 12, -6],\n",
       "       [-6, 12, -6]])"
      ]
     },
     "execution_count": 5,
     "metadata": {},
     "output_type": "execute_result"
    }
   ],
   "source": [
    "np.cross(arr1, arr2)"
   ]
  },
  {
   "cell_type": "markdown",
   "id": "e4a371ba",
   "metadata": {},
   "source": [
    "## Summing with respect to Axis - 0"
   ]
  },
  {
   "cell_type": "code",
   "execution_count": 6,
   "id": "754453ca",
   "metadata": {},
   "outputs": [
    {
     "data": {
      "text/plain": [
       "array([5, 7, 9])"
      ]
     },
     "execution_count": 6,
     "metadata": {},
     "output_type": "execute_result"
    }
   ],
   "source": [
    "np.sum(arr1, axis=0)  # Summing column wise i.e., axis = 0"
   ]
  },
  {
   "cell_type": "markdown",
   "id": "8d48c006",
   "metadata": {},
   "source": [
    "## Summing with respect to Axis - 1"
   ]
  },
  {
   "cell_type": "code",
   "execution_count": 7,
   "id": "63f4261a",
   "metadata": {},
   "outputs": [
    {
     "data": {
      "text/plain": [
       "array([ 6, 15])"
      ]
     },
     "execution_count": 7,
     "metadata": {},
     "output_type": "execute_result"
    }
   ],
   "source": [
    "np.sum(arr1, axis=1)  # Summing Row wise i.e., axis = 1"
   ]
  },
  {
   "cell_type": "markdown",
   "id": "84eba095",
   "metadata": {},
   "source": [
    "## Sorting "
   ]
  },
  {
   "cell_type": "code",
   "execution_count": 8,
   "id": "044c5d06",
   "metadata": {},
   "outputs": [],
   "source": [
    "arr1 = np.array([[1, 82, 33],\n",
    "                 [4, 45, 6]])"
   ]
  },
  {
   "cell_type": "code",
   "execution_count": 9,
   "id": "a94ae7b0",
   "metadata": {},
   "outputs": [
    {
     "data": {
      "text/plain": [
       "array([[ 1, 45,  6],\n",
       "       [ 4, 82, 33]])"
      ]
     },
     "execution_count": 9,
     "metadata": {},
     "output_type": "execute_result"
    }
   ],
   "source": [
    "np.sort(arr1, axis=0) # Sorting Column wise i.e., axis = 0"
   ]
  },
  {
   "cell_type": "code",
   "execution_count": 10,
   "id": "1d2802e0",
   "metadata": {},
   "outputs": [
    {
     "data": {
      "text/plain": [
       "array([[ 1, 33, 82],\n",
       "       [ 4,  6, 45]])"
      ]
     },
     "execution_count": 10,
     "metadata": {},
     "output_type": "execute_result"
    }
   ],
   "source": [
    "np.sort(arr1, axis=1) # Sorting Row wise i.e., axis = 1"
   ]
  },
  {
   "cell_type": "code",
   "execution_count": 11,
   "id": "eb85c128",
   "metadata": {},
   "outputs": [
    {
     "name": "stdout",
     "output_type": "stream",
     "text": [
      "Wall time: 0 ns\n"
     ]
    },
    {
     "data": {
      "text/plain": [
       "array([[ 1, 33, 82],\n",
       "       [ 4,  6, 45]])"
      ]
     },
     "execution_count": 11,
     "metadata": {},
     "output_type": "execute_result"
    }
   ],
   "source": [
    "%%time\n",
    "np.sort(arr1, kind=\"mergesort\")"
   ]
  },
  {
   "cell_type": "code",
   "execution_count": 12,
   "id": "3fb73385",
   "metadata": {},
   "outputs": [
    {
     "name": "stdout",
     "output_type": "stream",
     "text": [
      "Wall time: 0 ns\n"
     ]
    },
    {
     "data": {
      "text/plain": [
       "array([[ 1, 33, 82],\n",
       "       [ 4,  6, 45]])"
      ]
     },
     "execution_count": 12,
     "metadata": {},
     "output_type": "execute_result"
    }
   ],
   "source": [
    "%%time\n",
    "np.sort(arr1, kind=\"quicksort\")"
   ]
  },
  {
   "cell_type": "code",
   "execution_count": 13,
   "id": "db1b031f",
   "metadata": {},
   "outputs": [
    {
     "name": "stdout",
     "output_type": "stream",
     "text": [
      "Wall time: 0 ns\n"
     ]
    },
    {
     "data": {
      "text/plain": [
       "array([[ 1, 33, 82],\n",
       "       [ 4,  6, 45]])"
      ]
     },
     "execution_count": 13,
     "metadata": {},
     "output_type": "execute_result"
    }
   ],
   "source": [
    "%%time\n",
    "np.sort(arr1, kind=\"stable\")"
   ]
  },
  {
   "cell_type": "code",
   "execution_count": 14,
   "id": "f19bc426",
   "metadata": {},
   "outputs": [
    {
     "name": "stdout",
     "output_type": "stream",
     "text": [
      "Wall time: 0 ns\n"
     ]
    },
    {
     "data": {
      "text/plain": [
       "array([[ 1, 33, 82],\n",
       "       [ 4,  6, 45]])"
      ]
     },
     "execution_count": 14,
     "metadata": {},
     "output_type": "execute_result"
    }
   ],
   "source": [
    "%%time\n",
    "np.sort(arr1, kind=\"heapsort\")"
   ]
  },
  {
   "cell_type": "code",
   "execution_count": 15,
   "id": "4e72f374",
   "metadata": {},
   "outputs": [
    {
     "data": {
      "text/plain": [
       "array([ 1,  4,  6, 33, 45, 82])"
      ]
     },
     "execution_count": 15,
     "metadata": {},
     "output_type": "execute_result"
    }
   ],
   "source": [
    "np.sort(arr1, axis=None)  # When axis=None then it sort all the elements in a single list only"
   ]
  },
  {
   "cell_type": "code",
   "execution_count": null,
   "id": "35871e83",
   "metadata": {},
   "outputs": [],
   "source": []
  }
 ],
 "metadata": {
  "kernelspec": {
   "display_name": "Python 3 (ipykernel)",
   "language": "python",
   "name": "python3"
  },
  "language_info": {
   "codemirror_mode": {
    "name": "ipython",
    "version": 3
   },
   "file_extension": ".py",
   "mimetype": "text/x-python",
   "name": "python",
   "nbconvert_exporter": "python",
   "pygments_lexer": "ipython3",
   "version": "3.9.6"
  }
 },
 "nbformat": 4,
 "nbformat_minor": 5
}
